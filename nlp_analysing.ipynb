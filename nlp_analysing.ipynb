{
  "nbformat": 4,
  "nbformat_minor": 0,
  "metadata": {
    "colab": {
      "provenance": [],
      "toc_visible": true,
      "authorship_tag": "ABX9TyNP0JCDXMNk+hHHP58jgUZQ",
      "include_colab_link": true
    },
    "kernelspec": {
      "name": "python3",
      "display_name": "Python 3"
    },
    "language_info": {
      "name": "python"
    }
  },
  "cells": [
    {
      "cell_type": "markdown",
      "metadata": {
        "id": "view-in-github",
        "colab_type": "text"
      },
      "source": [
        "<a href=\"https://colab.research.google.com/github/Smrutiprajna-001/nlp_analysing/blob/main/nlp_analysing.ipynb\" target=\"_parent\"><img src=\"https://colab.research.google.com/assets/colab-badge.svg\" alt=\"Open In Colab\"/></a>"
      ]
    },
    {
      "cell_type": "code",
      "source": [
        "import re\n",
        "\n",
        "text=\"i am a data scientist.\"\n",
        "pattern= \"am\"\n",
        "\n",
        "match = re.search(pattern, text)\n",
        "if match:\n",
        "  print(\"Found a match:\",match.group())\n",
        "else:\n",
        "  print(\"No match is found.\")"
      ],
      "metadata": {
        "id": "0UxlPEiW5Vfj",
        "colab": {
          "base_uri": "https://localhost:8080/"
        },
        "outputId": "5531387b-ad95-4674-fcf2-9a95b55b11c3"
      },
      "execution_count": 6,
      "outputs": [
        {
          "output_type": "stream",
          "name": "stdout",
          "text": [
            "Found a match: am\n"
          ]
        }
      ]
    },
    {
      "cell_type": "code",
      "source": [
        "text= \"I am a data analyst.\"\n",
        "pattern=\"analyst\"\n",
        "replacement=\"scientist\"\n",
        "\n",
        "new_text=re.sub(pattern,replacement,text)\n",
        "print(\"Original Text:\",text)\n",
        "print(\"New_text :\",new_text)"
      ],
      "metadata": {
        "id": "izigyXUk5Vk5",
        "colab": {
          "base_uri": "https://localhost:8080/"
        },
        "outputId": "cc069384-ed52-4b3d-93f6-1413afb35acf"
      },
      "execution_count": 3,
      "outputs": [
        {
          "output_type": "stream",
          "name": "stdout",
          "text": [
            "Original Text: I am a data analyst.\n",
            "New_text : I am a data scientist.\n"
          ]
        }
      ]
    },
    {
      "cell_type": "markdown",
      "source": [
        "\n",
        "NLTK\n"
      ],
      "metadata": {
        "id": "mVMbg8rbN_Ig"
      }
    },
    {
      "cell_type": "code",
      "source": [
        "# removing punctuation\n",
        "test1=\"Hey. this is best : for ! us;\"\n",
        "print(\"Original text:\",test1)\n",
        "res=re.sub(r'[^\\w\\s]','',test1)\n",
        "\n",
        "# printing result\n",
        "print(\"The string after punctuation filter:\"+res)"
      ],
      "metadata": {
        "colab": {
          "base_uri": "https://localhost:8080/"
        },
        "id": "uv9W9w9WK9a4",
        "outputId": "21039544-6b92-4c20-8142-75676d61d141"
      },
      "execution_count": 7,
      "outputs": [
        {
          "output_type": "stream",
          "name": "stdout",
          "text": [
            "Original text: Hey. this is best : for ! us;\n",
            "The string after punctuation filter:Hey this is best  for  us\n"
          ]
        }
      ]
    },
    {
      "cell_type": "markdown",
      "source": [],
      "metadata": {
        "id": "ie-QRK8IOLwR"
      }
    },
    {
      "cell_type": "code",
      "source": [
        "import nltk\n",
        "nltk.download('punkt_tab')\n",
        "\n",
        "text=\"This is an example sentence.Another sentence is here.\"\n",
        "tokens = nltk.word_tokenize(text)\n",
        "\n",
        "print(tokens)"
      ],
      "metadata": {
        "id": "VKSDeAxg5VpX",
        "colab": {
          "base_uri": "https://localhost:8080/"
        },
        "outputId": "f8a2924c-fa66-4658-b835-1d753ce6eab7"
      },
      "execution_count": 10,
      "outputs": [
        {
          "output_type": "stream",
          "name": "stdout",
          "text": [
            "['This', 'is', 'an', 'example', 'sentence.Another', 'sentence', 'is', 'here', '.']\n"
          ]
        },
        {
          "output_type": "stream",
          "name": "stderr",
          "text": [
            "[nltk_data] Downloading package punkt_tab to /root/nltk_data...\n",
            "[nltk_data]   Package punkt_tab is already up-to-date!\n"
          ]
        }
      ]
    },
    {
      "cell_type": "code",
      "source": [
        "text=\"This is the first sentence.This is the second sentence. And this is the third sentence.\"\n",
        "sentences = nltk.sent_tokenize(text)\n",
        "print(sentences)"
      ],
      "metadata": {
        "id": "xB8SRpYT5Vu5",
        "colab": {
          "base_uri": "https://localhost:8080/"
        },
        "outputId": "f04aa26d-2e45-4224-9d7d-d2ecdd57c944"
      },
      "execution_count": 11,
      "outputs": [
        {
          "output_type": "stream",
          "name": "stdout",
          "text": [
            "['This is the first sentence.This is the second sentence.', 'And this is the third sentence.']\n"
          ]
        }
      ]
    },
    {
      "cell_type": "code",
      "source": [
        "from nltk.util import ngrams\n",
        "\n",
        "text = \"The quick brown fox jumps over the lazy dog.\"\n",
        "\n",
        "# Tokensize the text into individual words\n",
        "tokens=nltk.word_tokenize(text)\n",
        "\n",
        "# generate bigrams and trigrams from the tokens\n",
        "bigrams = list(ngrams(tokens,2))\n",
        "nltk.trigrams= list(ngrams(tokens,3))\n",
        "\n",
        "print(\"Original text :\",text)\n",
        "print(\"Tokens:\",tokens)\n",
        "print(\"Bigrams:\",bigrams)\n",
        "print(\"Trigrams:\",nltk.trigrams)"
      ],
      "metadata": {
        "id": "4japC9pX5VyW",
        "colab": {
          "base_uri": "https://localhost:8080/"
        },
        "outputId": "e1f42a42-9f0a-425b-d519-ef7482b62a80"
      },
      "execution_count": 12,
      "outputs": [
        {
          "output_type": "stream",
          "name": "stdout",
          "text": [
            "Original text : The quick brown fox jumps over the lazy dog.\n",
            "Tokens: ['The', 'quick', 'brown', 'fox', 'jumps', 'over', 'the', 'lazy', 'dog', '.']\n",
            "Bigrams: [('The', 'quick'), ('quick', 'brown'), ('brown', 'fox'), ('fox', 'jumps'), ('jumps', 'over'), ('over', 'the'), ('the', 'lazy'), ('lazy', 'dog'), ('dog', '.')]\n",
            "Trigrams: [('The', 'quick', 'brown'), ('quick', 'brown', 'fox'), ('brown', 'fox', 'jumps'), ('fox', 'jumps', 'over'), ('jumps', 'over', 'the'), ('over', 'the', 'lazy'), ('the', 'lazy', 'dog'), ('lazy', 'dog', '.')]\n"
          ]
        }
      ]
    },
    {
      "cell_type": "code",
      "source": [
        "from nltk.stem import PorterStemmer\n",
        "\n",
        "stemmer= PorterStemmer()\n",
        "word =\"caught \"\n",
        "stemmed_word=stemmer.stem(word)\n",
        "\n",
        "print(stemmed_word)"
      ],
      "metadata": {
        "id": "VKt8dEg65V2n",
        "colab": {
          "base_uri": "https://localhost:8080/"
        },
        "outputId": "085ddfdd-48be-4f15-cfb5-f258e15dd23e"
      },
      "execution_count": 24,
      "outputs": [
        {
          "output_type": "stream",
          "name": "stdout",
          "text": [
            "caught \n"
          ]
        }
      ]
    },
    {
      "cell_type": "code",
      "source": [
        "import nltk\n",
        "nltk.download('omw-1.4')\n",
        "from nltk.stem import WordNetLemmatizer\n",
        "\n",
        "nltk.download('wordnet')   #Download the WordNet corpus\n",
        "\n",
        "lemmatizer = WordNetLemmatizer()\n",
        "\n",
        "word = 'played'\n",
        "lemma_word = lemmatizer.lemmatize(word, pos=\"v\")\n",
        "\n",
        "print(lemma_word)"
      ],
      "metadata": {
        "id": "KVWMlC_D5V7x",
        "colab": {
          "base_uri": "https://localhost:8080/"
        },
        "outputId": "a7efd21f-697f-4eab-abf8-a38ac82fd515"
      },
      "execution_count": 30,
      "outputs": [
        {
          "output_type": "stream",
          "name": "stdout",
          "text": [
            "play\n"
          ]
        },
        {
          "output_type": "stream",
          "name": "stderr",
          "text": [
            "[nltk_data] Downloading package omw-1.4 to /root/nltk_data...\n",
            "[nltk_data]   Package omw-1.4 is already up-to-date!\n",
            "[nltk_data] Downloading package wordnet to /root/nltk_data...\n",
            "[nltk_data]   Package wordnet is already up-to-date!\n"
          ]
        }
      ]
    },
    {
      "cell_type": "code",
      "source": [
        "from nltk.corpus import stopwords\n",
        "nltk.download('stopwords')\n",
        "\n",
        "stop_words=set(stopwords.words('english'))\n",
        "\n",
        "text = \"This is an example sentence that includes stop words\"\n",
        "\n",
        "tokens = nltk.word_tokenize(text)\n",
        "\n",
        "filtered_tokens = [word for word in tokens if not word.lower() in stop_words]\n",
        "\n",
        "filtered_text = ' '.join(filtered_tokens)\n",
        "\n",
        "print(\"data\",filtered_text)"
      ],
      "metadata": {
        "id": "sQHO_c0U5V_m",
        "colab": {
          "base_uri": "https://localhost:8080/"
        },
        "outputId": "4bf32398-8534-46dd-8b77-28dbd3578bfe"
      },
      "execution_count": 32,
      "outputs": [
        {
          "output_type": "stream",
          "name": "stdout",
          "text": [
            "data example sentence includes stop words\n"
          ]
        },
        {
          "output_type": "stream",
          "name": "stderr",
          "text": [
            "[nltk_data] Downloading package stopwords to /root/nltk_data...\n",
            "[nltk_data]   Package stopwords is already up-to-date!\n"
          ]
        }
      ]
    },
    {
      "cell_type": "code",
      "source": [
        "from nltk.tokenize import word_tokenize\n",
        "nltk.download('averaged_perceptron_tagger_eng')\n",
        "\n",
        "text=\"The quick brown fox jumps over the lazy dog.\"\n",
        "tokens=word_tokenize(text)\n",
        "pos_tags = nltk.pos_tag(tokens)\n",
        "print(pos_tags)"
      ],
      "metadata": {
        "id": "DnYocNgF5WDI",
        "colab": {
          "base_uri": "https://localhost:8080/"
        },
        "outputId": "824314f6-2ea3-4a91-b1df-68ad8d6f7c18"
      },
      "execution_count": 36,
      "outputs": [
        {
          "output_type": "stream",
          "name": "stderr",
          "text": [
            "[nltk_data] Downloading package averaged_perceptron_tagger_eng to\n",
            "[nltk_data]     /root/nltk_data...\n",
            "[nltk_data]   Unzipping taggers/averaged_perceptron_tagger_eng.zip.\n"
          ]
        },
        {
          "output_type": "stream",
          "name": "stdout",
          "text": [
            "[('The', 'DT'), ('quick', 'JJ'), ('brown', 'NN'), ('fox', 'NN'), ('jumps', 'VBZ'), ('over', 'IN'), ('the', 'DT'), ('lazy', 'JJ'), ('dog', 'NN'), ('.', '.')]\n"
          ]
        }
      ]
    },
    {
      "cell_type": "code",
      "source": [
        "# NER\n",
        "\n",
        "from nltk import pos_tag, ne_chunk\n",
        "nltk.download('maxent_ne_chunker_tab')\n",
        "nltk.download('words')\n",
        "# define the text\n",
        "text=\"Apple is expected to launch its new iphone in September at the Steve Jobs Theater in Californiar.\"\n",
        "#  tokenize the text\n",
        "tokens = word_tokenize(text)\n",
        "\n",
        "# perform part of speech tagging\n",
        "tagged = pos_tag(tokens)\n",
        "\n",
        "# perform named entity recognition on a tagged text\n",
        "ne=ne_chunk(tagged)\n",
        "\n",
        "# print the named entities\n",
        "for chunk in ne:\n",
        "  if hasattr(chunk, \"label\"):\n",
        "    print(chunk.label(), ' '.join(c[0] for c in chunk))"
      ],
      "metadata": {
        "id": "xE79VHFz5WGm",
        "colab": {
          "base_uri": "https://localhost:8080/"
        },
        "outputId": "807a6ec4-2187-457b-d5b6-dac2f369bea3"
      },
      "execution_count": 40,
      "outputs": [
        {
          "output_type": "stream",
          "name": "stderr",
          "text": [
            "[nltk_data] Downloading package maxent_ne_chunker_tab to\n",
            "[nltk_data]     /root/nltk_data...\n",
            "[nltk_data]   Package maxent_ne_chunker_tab is already up-to-date!\n",
            "[nltk_data] Downloading package words to /root/nltk_data...\n",
            "[nltk_data]   Package words is already up-to-date!\n"
          ]
        },
        {
          "output_type": "stream",
          "name": "stdout",
          "text": [
            "GPE Apple\n",
            "PERSON Steve Jobs\n",
            "GPE Californiar\n"
          ]
        }
      ]
    },
    {
      "cell_type": "code",
      "source": [
        "from nltk.sentiment import SentimentIntensityAnalyzer\n",
        "nltk.download('vader_lexicon')\n",
        "# intialize the sentimental analyzer\n",
        "sid=SentimentIntensityAnalyzer()\n",
        "\n",
        "# Sample text\n",
        "text = \"I hate this proudct!.\" #It would not work perfectly and I would definitely recommended to anyone.\"\n",
        "# compute the sentiment score for the text\n",
        "scores = sid.polarity_scores(text)\n",
        "# print the sentiment scorees\n",
        "print(scores)"
      ],
      "metadata": {
        "id": "mUco5Opk5WJ-",
        "colab": {
          "base_uri": "https://localhost:8080/"
        },
        "outputId": "db3ca983-9318-4076-85d9-b27f2ef034ce"
      },
      "execution_count": 41,
      "outputs": [
        {
          "output_type": "stream",
          "name": "stdout",
          "text": [
            "{'neg': 0.337, 'neu': 0.457, 'pos': 0.206, 'compound': -0.594}\n"
          ]
        },
        {
          "output_type": "stream",
          "name": "stderr",
          "text": [
            "[nltk_data] Downloading package vader_lexicon to /root/nltk_data...\n"
          ]
        }
      ]
    },
    {
      "cell_type": "code",
      "source": [],
      "metadata": {
        "id": "S_spaZEm5WNh"
      },
      "execution_count": null,
      "outputs": []
    },
    {
      "cell_type": "code",
      "source": [],
      "metadata": {
        "id": "Afpexcce5WQ2"
      },
      "execution_count": null,
      "outputs": []
    }
  ]
}